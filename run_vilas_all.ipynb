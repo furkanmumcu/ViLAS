{
 "cells": [
  {
   "cell_type": "code",
   "id": "initial_id",
   "metadata": {
    "collapsed": true,
    "ExecuteTime": {
     "end_time": "2024-12-14T06:53:03.602926Z",
     "start_time": "2024-12-14T06:53:02.755669Z"
    }
   },
   "source": [
    "from vilas import vilas_score\n",
    "import utils\n",
    "import timm\n",
    "import torch\n",
    "import torchattacks\n",
    "import numpy as np"
   ],
   "outputs": [],
   "execution_count": 1
  },
  {
   "metadata": {
    "ExecuteTime": {
     "end_time": "2024-12-14T06:57:18.075175Z",
     "start_time": "2024-12-14T06:57:18.072614Z"
    }
   },
   "cell_type": "code",
   "source": [
    "def report_vilas_scores(image_path, label, target_model):\n",
    "\timage = utils.get_image(image_path)\n",
    "\n",
    "\t# get clean image score\n",
    "\tscore = vilas_score(image, target_model)\n",
    "\n",
    "\t# get attacked image score\n",
    "\tatk = torchattacks.PGD(target_model, eps=8 / 255, alpha=2 / 255, steps=4)\n",
    "\tlabel = torch.from_numpy(np.array([label]))\n",
    "\timage = torch.unsqueeze(image, dim=0)\n",
    "\tadv_image = atk(image, label)\n",
    "\tadv_image = torch.squeeze(adv_image)\n",
    "\n",
    "\tscore_adv = vilas_score(adv_image, target_model)\n",
    "\tprint(image_path)\n",
    "\tprint('clean score: {}'.format(score))\n",
    "\tprint('adv score: {}'.format(score_adv))\n",
    "\tprint()"
   ],
   "id": "532bc7ef3d4e0047",
   "outputs": [],
   "execution_count": 12
  },
  {
   "metadata": {},
   "cell_type": "code",
   "source": [
    "model = timm.create_model('vit_base_patch16_224', pretrained=True, num_classes=43, global_pool='avg')\n",
    "model_dir = 'models/vit.pt'\n",
    "model.load_state_dict(torch.load(model_dir))\n",
    "\n",
    "images = ['images/00000.ppm', 'images/00001.ppm', 'images/00011.ppm', 'images/00035.ppm', 'images/00057.ppm']\n",
    "labels = [16, 1, 7, 17, 26]"
   ],
   "id": "32732405eae5d554",
   "outputs": [],
   "execution_count": null
  },
  {
   "metadata": {
    "ExecuteTime": {
     "end_time": "2024-12-14T07:04:24.948765Z",
     "start_time": "2024-12-14T07:04:19.039121Z"
    }
   },
   "cell_type": "code",
   "source": [
    "for i in range(5):\n",
    "\treport_vilas_scores(images[i], labels[i], model)"
   ],
   "id": "2ff5daa7fce50d8c",
   "outputs": [
    {
     "name": "stdout",
     "output_type": "stream",
     "text": [
      "images/00000.ppm\n",
      "clean score: 2.035922692934889e-05\n",
      "adv score: 33.03477278836698\n",
      "\n",
      "images/00001.ppm\n",
      "clean score: 0.0006304432685393576\n",
      "adv score: 34.814786982047124\n",
      "\n",
      "images/00011.ppm\n",
      "clean score: 9.37010882484839e-05\n",
      "adv score: 3.9007392135835053\n",
      "\n",
      "images/00035.ppm\n",
      "clean score: 4.768683062100967e-05\n",
      "adv score: 11.338531632577437\n",
      "\n",
      "images/00057.ppm\n",
      "clean score: 0.022326404841870852\n",
      "adv score: 0.16200311539779322\n",
      "\n"
     ]
    }
   ],
   "execution_count": 16
  }
 ],
 "metadata": {
  "kernelspec": {
   "display_name": "Python 3",
   "language": "python",
   "name": "python3"
  },
  "language_info": {
   "codemirror_mode": {
    "name": "ipython",
    "version": 2
   },
   "file_extension": ".py",
   "mimetype": "text/x-python",
   "name": "python",
   "nbconvert_exporter": "python",
   "pygments_lexer": "ipython2",
   "version": "2.7.6"
  }
 },
 "nbformat": 4,
 "nbformat_minor": 5
}
